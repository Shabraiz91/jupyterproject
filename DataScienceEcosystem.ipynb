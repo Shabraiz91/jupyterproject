{
 "cells": [
  {
   "cell_type": "markdown",
   "id": "9336be2d-18dd-47d0-81ec-c1ee31f93887",
   "metadata": {},
   "source": [
    "<h1>Data Science Tools and Ecosystem</h1>"
   ]
  },
  {
   "cell_type": "markdown",
   "id": "152283df-be04-48dc-963e-c15b2cdc1c5c",
   "metadata": {},
   "source": [
    "Introduction\n",
    " In this notebook, Data Science Tools and Ecosystem are summarized.\n",
    "\n",
    " "
   ]
  },
  {
   "cell_type": "markdown",
   "id": "81b48fd9-dc83-401a-a4f6-468760e42bc1",
   "metadata": {},
   "source": [
    "**Objectives**"
   ]
  },
  {
   "cell_type": "markdown",
   "id": "654698fd-12a4-498b-9845-ccc61bea7651",
   "metadata": {},
   "source": [
    "Some of the popular languages that Data Scientists use are:\n",
    "\n",
    "\n",
    "1-Python\n",
    "2-R\n",
    "3-SQL\n",
    "4-Scala\n",
    "5-Julia"
   ]
  },
  {
   "cell_type": "markdown",
   "id": "6b13df89-ed3e-4da9-b39b-4d5849c802c6",
   "metadata": {},
   "source": [
    "Some of the commonly used libraries used by Data Scientists include:\n",
    "\n",
    "1-NumPy\n",
    "2-Pandas\n",
    "3-Matplotlib/Seaborn\n",
    "4-Scikit-learn\n",
    "5-TensorFlow/PyTorch\n",
    "6-dplyr\n",
    "7-ggplot2\n",
    "8-caret.\n"
   ]
  },
  {
   "cell_type": "markdown",
   "id": "3a49d98c-43a1-4da6-b29a-2f0093805bb5",
   "metadata": {},
   "source": [
    "Data Science Tools  \n",
    "\n",
    "1-Jupyter Notebook       \n",
    "2-RStudio                \n",
    "3-Apache Zeppelin        "
   ]
  },
  {
   "cell_type": "markdown",
   "id": "33a37a4a-1fe4-4522-8163-ea72c99a6a5d",
   "metadata": {},
   "source": [
    "\n"
   ]
  },
  {
   "cell_type": "markdown",
   "id": "14104ffe-372c-450c-b6dc-ed3cfee584f8",
   "metadata": {},
   "source": [
    "Data Science Liberies\n",
    "\n",
    "1-NumPy\n",
    "2-Pandas\n",
    "3-Matplotlib/Seaborn\n",
    "4-Scikit-learn\n",
    "5-TensorFlow/PyTorch\n",
    "6-dplyr\n",
    "7-ggplot2\n",
    "8-caret.\n"
   ]
  },
  {
   "cell_type": "markdown",
   "id": "9a510cf7-3d27-4542-a000-0d01e90a06c9",
   "metadata": {},
   "source": [
    "<h3>Below are a few examples of evaluating arithmetic expressions in Python.</h3>"
   ]
  },
  {
   "cell_type": "code",
   "execution_count": 12,
   "id": "4ea87f12-3508-4c46-bbbb-a92549e6c306",
   "metadata": {},
   "outputs": [
    {
     "data": {
      "text/plain": [
       "17"
      ]
     },
     "execution_count": 12,
     "metadata": {},
     "output_type": "execute_result"
    }
   ],
   "source": [
    "#This a simple arithmetic expression to mutiply then add integers\n",
    "(3*5)+2"
   ]
  },
  {
   "cell_type": "code",
   "execution_count": 8,
   "id": "84620a04-9241-4a80-abe1-dcdbe27fedc0",
   "metadata": {},
   "outputs": [
    {
     "name": "stdout",
     "output_type": "stream",
     "text": [
      "3.3333333333333335 hours\n"
     ]
    }
   ],
   "source": [
    "#This will convert 200 minutes to hours by diving by 60\n",
    "\n",
    "minutes = 200\n",
    "hours = 1/60\n",
    "\n",
    "print(minutes*hours, \"hours\")\n",
    "\n"
   ]
  },
  {
   "cell_type": "markdown",
   "id": "7ef66baf-2f44-4d26-b28c-75846113950f",
   "metadata": {},
   "source": [
    "<h2>Author</h2>\n",
    "\n",
    "Shabraiz"
   ]
  },
  {
   "cell_type": "code",
   "execution_count": null,
   "id": "18b9411d-258c-4062-8893-836db756e053",
   "metadata": {},
   "outputs": [],
   "source": []
  }
 ],
 "metadata": {
  "kernelspec": {
   "display_name": "Python 3 (ipykernel)",
   "language": "python",
   "name": "python3"
  },
  "language_info": {
   "codemirror_mode": {
    "name": "ipython",
    "version": 3
   },
   "file_extension": ".py",
   "mimetype": "text/x-python",
   "name": "python",
   "nbconvert_exporter": "python",
   "pygments_lexer": "ipython3",
   "version": "3.12.7"
  }
 },
 "nbformat": 4,
 "nbformat_minor": 5
}
